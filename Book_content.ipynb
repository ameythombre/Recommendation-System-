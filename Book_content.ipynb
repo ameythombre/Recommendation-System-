{
 "cells": [
  {
   "cell_type": "code",
   "execution_count": null,
   "metadata": {},
   "outputs": [],
   "source": [
    "import requests\n",
    "import csv\n",
    "import pandas as pd\n",
    "\n",
    "# import BeautifulSoup from package bs4 (i.e. beautifulsoup4)\n",
    "from bs4 import BeautifulSoup\n",
    "\n",
    "headers = { 'user-agent': 'Mozilla/5.0 (X11; Linux x86_64) AppleWebKit/537.36 (KHTML, like Gecko) Chrome/46.0.2490.'\n",
    "                          '86 Safari/537.36'}\n",
    "\n",
    "page = requests.get('https://www.goodreads.com/book/show/11505797-beautiful-disaster', headers = headers)\n",
    "\n",
    "# send a get request to the web page\n",
    "# siteUrl = \"https://www.goodreads.com\"\n",
    "RomanceBookName = []\n",
    "AuthorName = []\n",
    "AuthorLink = []\n",
    "Ratings = []\n",
    "Description = []\n",
    "OtherCategories = []\n",
    "LiteraryAwards = []\n",
    "\n",
    "if page.status_code == 200:\n",
    "    soup = BeautifulSoup(page.content, 'html.parser')\n",
    "    bookName = soup.select('div h1#bookTitle')\n",
    "    for i in bookName:\n",
    "        RomanceBookName.append(i.text.strip())    \n",
    "    authorName = soup.select('div a.authorName')\n",
    "    for i in authorName:\n",
    "        AuthorName.append(i.text)\n",
    "    rating = soup.select('span.average')\n",
    "    for i in rating:\n",
    "        Ratings.append(i.text)\n",
    "    desc = soup.select('div#description span')\n",
    "    for i in desc:\n",
    "        Description.append(i.text)\n",
    "    authorLink = soup.select('div a.authorName')\n",
    "    for i in authorLink:\n",
    "        AuthorLink.append(i[\"href\"])\n",
    "    othrcat = soup.select('div.elementList a.actionLinkLite')\n",
    "    for i in othrcat:\n",
    "        OtherCategories.append(i.text.strip())  \n",
    "    awrd = soup.select('div.infoBoxRowItem a.award')\n",
    "    for i in awrd:\n",
    "        LiteraryAwards.append(i.text.strip())  \n",
    "    othrCat = [\" \".join(OtherCategories)]\n",
    "    finalTuple = list(zip(RomanceBookName,AuthorName,AuthorLink,Ratings,othrCat,LiteraryAwards,Description))\n",
    "    print(finalTuple)"
   ]
  }
 ],
 "metadata": {
  "kernelspec": {
   "display_name": "Python 3",
   "language": "python",
   "name": "python3"
  },
  "language_info": {
   "codemirror_mode": {
    "name": "ipython",
    "version": 3
   },
   "file_extension": ".py",
   "mimetype": "text/x-python",
   "name": "python",
   "nbconvert_exporter": "python",
   "pygments_lexer": "ipython3",
   "version": "3.6.4"
  }
 },
 "nbformat": 4,
 "nbformat_minor": 2
}
