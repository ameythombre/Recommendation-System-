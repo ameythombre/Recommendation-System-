{
 "cells": [
  {
   "cell_type": "code",
   "execution_count": 69,
   "metadata": {},
   "outputs": [],
   "source": [
    "import requests\n",
    "import csv\n",
    "import pandas as pd\n",
    "\n",
    "# import BeautifulSoup from package bs4 (i.e. beautifulsoup4)\n",
    "from bs4 import BeautifulSoup\n",
    "\n",
    "headers = { 'user-agent': 'Mozilla/5.0 (X11; Linux x86_64) AppleWebKit/537.36 (KHTML, like Gecko) Chrome/46.0.2490.'\n",
    "                          '86 Safari/537.36'}\n",
    "\n",
    "page = requests.get('https://www.goodreads.com/list/tag/', headers = headers)\n",
    "\n",
    "# send a get request to the web page\n",
    "siteUrl = \"https://www.goodreads.com\"\n",
    "category = {}\n",
    "if page.status_code == 200:\n",
    "    soup = BeautifulSoup(page.content, 'html.parser')\n",
    "#     print(soup.prettify())\n",
    "    categoryNameTags = soup.select('div ul.listTagsTwoColumn li a.actionLinkLite')\n",
    "    for name in categoryNameTags:\n",
    "        category[name.text.strip()] = siteUrl + name['href']\n",
    "    \n",
    "    with open('categoryListGR.csv', 'w') as file:\n",
    "        wrt = csv.writer(file, delimiter=',', lineterminator='\\n')\n",
    "        wrt.writerow(['Category', 'Link'])\n",
    "        for key,value in category.items():\n",
    "            wrt.writerow([key,value])"
   ]
  }
 ],
 "metadata": {
  "kernelspec": {
   "display_name": "Python 3",
   "language": "python",
   "name": "python3"
  },
  "language_info": {
   "codemirror_mode": {
    "name": "ipython",
    "version": 3
   },
   "file_extension": ".py",
   "mimetype": "text/x-python",
   "name": "python",
   "nbconvert_exporter": "python",
   "pygments_lexer": "ipython3",
   "version": "3.6.4"
  }
 },
 "nbformat": 4,
 "nbformat_minor": 2
}
